{
  "cells": [
    {
      "cell_type": "code",
      "execution_count": 1,
      "metadata": {
        "id": "iaktY8QK78dK"
      },
      "outputs": [
        {
          "name": "stdout",
          "output_type": "stream",
          "text": [
            "Defaulting to user installation because normal site-packages is not writeable\n",
            "Requirement already satisfied: pandas in /var/data/python/lib/python3.11/site-packages (2.2.2)\n",
            "Requirement already satisfied: numpy>=1.23.2 in /var/data/python/lib/python3.11/site-packages (from pandas) (2.1.1)\n",
            "Requirement already satisfied: python-dateutil>=2.8.2 in /var/data/python/lib/python3.11/site-packages (from pandas) (2.9.0.post0)\n",
            "Requirement already satisfied: pytz>=2020.1 in /var/data/python/lib/python3.11/site-packages (from pandas) (2024.2)\n",
            "Requirement already satisfied: tzdata>=2022.7 in /var/data/python/lib/python3.11/site-packages (from pandas) (2024.1)\n",
            "Requirement already satisfied: six>=1.5 in /usr/lib/python3.11/site-packages (from python-dateutil>=2.8.2->pandas) (1.16.0)\n",
            "Note: you may need to restart the kernel to use updated packages.\n",
            "Defaulting to user installation because normal site-packages is not writeable\n",
            "Requirement already satisfied: numpy in /var/data/python/lib/python3.11/site-packages (2.1.1)\n",
            "Note: you may need to restart the kernel to use updated packages.\n"
          ]
        }
      ],
      "source": [
        "# Importa dependências necessárias\n",
        "%pip install pandas\n",
        "%pip install numpy\n",
        "import pandas as pd\n",
        "import numpy as np"
      ]
    },
    {
      "cell_type": "code",
      "execution_count": 2,
      "metadata": {
        "id": "RWiSNYah8cwp"
      },
      "outputs": [],
      "source": [
        "# Gera um dataframe com 10 milhões de linhas e 100 colunas com números \"aleatórios\" entre 0 e 1\n",
        "num_rows, num_columns = 10_000_000, 100\n",
        "data = np.random.rand(num_rows, num_columns)\n",
        "dataset = pd.DataFrame(data, columns=[f\"col_{i+1}\" for i in range(num_columns)])\n",
        "dataset.tail(5)"
      ]
    },
    {
      "cell_type": "code",
      "execution_count": 6,
      "metadata": {
        "id": "7JFxyGBEo7lt"
      },
      "outputs": [
        {
          "name": "stdout",
          "output_type": "stream",
          "text": [
            "O dataset 'numbers.csv' foi salvo com sucesso!\n"
          ]
        }
      ],
      "source": [
        "# Grava o arquivo no formato CSV\n",
        "try:\n",
        "    dataset.to_csv(\"numbers_input.csv\", index=False, chunksize=100000)\n",
        "    print(\"O dataset 'numbers_input.csv' foi salvo com sucesso!\")\n",
        "except:\n",
        "    print(\"Erro ao salvar o dataset!\")"
      ]
    },
    {
      "cell_type": "code",
      "execution_count": 8,
      "metadata": {},
      "outputs": [
        {
          "name": "stdout",
          "output_type": "stream",
          "text": [
            "Erro ao salvar o dataset!\n"
          ]
        }
      ],
      "source": [
        "# Lê o arquivo em blocos de 100 mil linhas, multiplica os dados por 10 e grava os novos resultados\n",
        "try:\n",
        "    for chunck in pd.read_csv(\"numbers_input.csv\", chunksize=100000):\n",
        "        chunck *= 10\n",
        "        chunck.to_csv(\"numbers_output.csv\", mode=\"a\")\n",
        "    print(\"O dataset 'numbers_output.csv' foi salvo com sucesso!\")\n",
        "except:\n",
        "    print(\"Erro ao salvar o dataset!\")"
      ]
    }
  ],
  "metadata": {
    "colab": {
      "provenance": []
    },
    "kernelspec": {
      "display_name": "Python 3",
      "name": "python3"
    },
    "language_info": {
      "codemirror_mode": {
        "name": "ipython",
        "version": 3
      },
      "file_extension": ".py",
      "mimetype": "text/x-python",
      "name": "python",
      "nbconvert_exporter": "python",
      "pygments_lexer": "ipython3",
      "version": "3.11.9"
    }
  },
  "nbformat": 4,
  "nbformat_minor": 0
}
