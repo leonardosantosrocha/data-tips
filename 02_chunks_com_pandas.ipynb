{
  "cells": [
    {
      "cell_type": "code",
      "execution_count": 1,
      "metadata": {
        "id": "iaktY8QK78dK"
      },
      "outputs": [
        {
          "name": "stdout",
          "output_type": "stream",
          "text": [
            "Defaulting to user installation because normal site-packages is not writeable\n",
            "Requirement already satisfied: pandas in /var/data/python/lib/python3.11/site-packages (2.2.2)\n",
            "Requirement already satisfied: numpy>=1.23.2 in /var/data/python/lib/python3.11/site-packages (from pandas) (2.1.1)\n",
            "Requirement already satisfied: python-dateutil>=2.8.2 in /var/data/python/lib/python3.11/site-packages (from pandas) (2.9.0.post0)\n",
            "Requirement already satisfied: pytz>=2020.1 in /var/data/python/lib/python3.11/site-packages (from pandas) (2024.2)\n",
            "Requirement already satisfied: tzdata>=2022.7 in /var/data/python/lib/python3.11/site-packages (from pandas) (2024.1)\n",
            "Requirement already satisfied: six>=1.5 in /usr/lib/python3.11/site-packages (from python-dateutil>=2.8.2->pandas) (1.16.0)\n",
            "Note: you may need to restart the kernel to use updated packages.\n",
            "Defaulting to user installation because normal site-packages is not writeable\n",
            "Requirement already satisfied: numpy in /var/data/python/lib/python3.11/site-packages (2.1.1)\n",
            "Note: you may need to restart the kernel to use updated packages.\n"
          ]
        }
      ],
      "source": [
        "# Importa dependências necessárias\n",
        "%pip install pandas\n",
        "%pip install numpy\n",
        "import pandas as pd\n",
        "import numpy as np"
      ]
    },
    {
      "cell_type": "code",
      "execution_count": 2,
      "metadata": {
        "id": "RWiSNYah8cwp"
      },
      "outputs": [
        {
          "data": {
            "text/html": [
              "<div>\n",
              "<style scoped>\n",
              "    .dataframe tbody tr th:only-of-type {\n",
              "        vertical-align: middle;\n",
              "    }\n",
              "\n",
              "    .dataframe tbody tr th {\n",
              "        vertical-align: top;\n",
              "    }\n",
              "\n",
              "    .dataframe thead th {\n",
              "        text-align: right;\n",
              "    }\n",
              "</style>\n",
              "<table border=\"1\" class=\"dataframe\">\n",
              "  <thead>\n",
              "    <tr style=\"text-align: right;\">\n",
              "      <th></th>\n",
              "      <th>col_1</th>\n",
              "      <th>col_2</th>\n",
              "      <th>col_3</th>\n",
              "      <th>col_4</th>\n",
              "      <th>col_5</th>\n",
              "      <th>col_6</th>\n",
              "      <th>col_7</th>\n",
              "      <th>col_8</th>\n",
              "      <th>col_9</th>\n",
              "      <th>col_10</th>\n",
              "      <th>...</th>\n",
              "      <th>col_91</th>\n",
              "      <th>col_92</th>\n",
              "      <th>col_93</th>\n",
              "      <th>col_94</th>\n",
              "      <th>col_95</th>\n",
              "      <th>col_96</th>\n",
              "      <th>col_97</th>\n",
              "      <th>col_98</th>\n",
              "      <th>col_99</th>\n",
              "      <th>col_100</th>\n",
              "    </tr>\n",
              "  </thead>\n",
              "  <tbody>\n",
              "    <tr>\n",
              "      <th>9999995</th>\n",
              "      <td>0.034501</td>\n",
              "      <td>0.121848</td>\n",
              "      <td>0.467717</td>\n",
              "      <td>0.877766</td>\n",
              "      <td>0.878499</td>\n",
              "      <td>0.936883</td>\n",
              "      <td>0.789328</td>\n",
              "      <td>0.909654</td>\n",
              "      <td>0.791481</td>\n",
              "      <td>0.127216</td>\n",
              "      <td>...</td>\n",
              "      <td>0.079612</td>\n",
              "      <td>0.410640</td>\n",
              "      <td>0.995345</td>\n",
              "      <td>0.640881</td>\n",
              "      <td>0.714778</td>\n",
              "      <td>0.980674</td>\n",
              "      <td>0.201933</td>\n",
              "      <td>0.026760</td>\n",
              "      <td>0.224835</td>\n",
              "      <td>0.974148</td>\n",
              "    </tr>\n",
              "    <tr>\n",
              "      <th>9999996</th>\n",
              "      <td>0.615655</td>\n",
              "      <td>0.210419</td>\n",
              "      <td>0.732309</td>\n",
              "      <td>0.041191</td>\n",
              "      <td>0.194530</td>\n",
              "      <td>0.377047</td>\n",
              "      <td>0.543063</td>\n",
              "      <td>0.235601</td>\n",
              "      <td>0.097261</td>\n",
              "      <td>0.970263</td>\n",
              "      <td>...</td>\n",
              "      <td>0.758696</td>\n",
              "      <td>0.627208</td>\n",
              "      <td>0.916318</td>\n",
              "      <td>0.276773</td>\n",
              "      <td>0.948429</td>\n",
              "      <td>0.341518</td>\n",
              "      <td>0.664983</td>\n",
              "      <td>0.576333</td>\n",
              "      <td>0.296541</td>\n",
              "      <td>0.670040</td>\n",
              "    </tr>\n",
              "    <tr>\n",
              "      <th>9999997</th>\n",
              "      <td>0.335630</td>\n",
              "      <td>0.676692</td>\n",
              "      <td>0.761090</td>\n",
              "      <td>0.577002</td>\n",
              "      <td>0.664974</td>\n",
              "      <td>0.409550</td>\n",
              "      <td>0.088373</td>\n",
              "      <td>0.548355</td>\n",
              "      <td>0.258230</td>\n",
              "      <td>0.677708</td>\n",
              "      <td>...</td>\n",
              "      <td>0.660155</td>\n",
              "      <td>0.831205</td>\n",
              "      <td>0.605771</td>\n",
              "      <td>0.587956</td>\n",
              "      <td>0.965012</td>\n",
              "      <td>0.498652</td>\n",
              "      <td>0.713222</td>\n",
              "      <td>0.743059</td>\n",
              "      <td>0.450254</td>\n",
              "      <td>0.456685</td>\n",
              "    </tr>\n",
              "    <tr>\n",
              "      <th>9999998</th>\n",
              "      <td>0.938340</td>\n",
              "      <td>0.652601</td>\n",
              "      <td>0.949615</td>\n",
              "      <td>0.308382</td>\n",
              "      <td>0.457313</td>\n",
              "      <td>0.207847</td>\n",
              "      <td>0.789087</td>\n",
              "      <td>0.600572</td>\n",
              "      <td>0.995137</td>\n",
              "      <td>0.749449</td>\n",
              "      <td>...</td>\n",
              "      <td>0.690757</td>\n",
              "      <td>0.869219</td>\n",
              "      <td>0.093962</td>\n",
              "      <td>0.433426</td>\n",
              "      <td>0.732032</td>\n",
              "      <td>0.701376</td>\n",
              "      <td>0.904415</td>\n",
              "      <td>0.371543</td>\n",
              "      <td>0.839560</td>\n",
              "      <td>0.211769</td>\n",
              "    </tr>\n",
              "    <tr>\n",
              "      <th>9999999</th>\n",
              "      <td>0.215323</td>\n",
              "      <td>0.194770</td>\n",
              "      <td>0.457084</td>\n",
              "      <td>0.418391</td>\n",
              "      <td>0.170540</td>\n",
              "      <td>0.422540</td>\n",
              "      <td>0.387045</td>\n",
              "      <td>0.468414</td>\n",
              "      <td>0.607909</td>\n",
              "      <td>0.234753</td>\n",
              "      <td>...</td>\n",
              "      <td>0.958710</td>\n",
              "      <td>0.316522</td>\n",
              "      <td>0.382977</td>\n",
              "      <td>0.282852</td>\n",
              "      <td>0.779345</td>\n",
              "      <td>0.701562</td>\n",
              "      <td>0.883917</td>\n",
              "      <td>0.267973</td>\n",
              "      <td>0.001985</td>\n",
              "      <td>0.522598</td>\n",
              "    </tr>\n",
              "  </tbody>\n",
              "</table>\n",
              "<p>5 rows × 100 columns</p>\n",
              "</div>"
            ],
            "text/plain": [
              "            col_1     col_2     col_3     col_4     col_5     col_6     col_7  \\\n",
              "9999995  0.034501  0.121848  0.467717  0.877766  0.878499  0.936883  0.789328   \n",
              "9999996  0.615655  0.210419  0.732309  0.041191  0.194530  0.377047  0.543063   \n",
              "9999997  0.335630  0.676692  0.761090  0.577002  0.664974  0.409550  0.088373   \n",
              "9999998  0.938340  0.652601  0.949615  0.308382  0.457313  0.207847  0.789087   \n",
              "9999999  0.215323  0.194770  0.457084  0.418391  0.170540  0.422540  0.387045   \n",
              "\n",
              "            col_8     col_9    col_10  ...    col_91    col_92    col_93  \\\n",
              "9999995  0.909654  0.791481  0.127216  ...  0.079612  0.410640  0.995345   \n",
              "9999996  0.235601  0.097261  0.970263  ...  0.758696  0.627208  0.916318   \n",
              "9999997  0.548355  0.258230  0.677708  ...  0.660155  0.831205  0.605771   \n",
              "9999998  0.600572  0.995137  0.749449  ...  0.690757  0.869219  0.093962   \n",
              "9999999  0.468414  0.607909  0.234753  ...  0.958710  0.316522  0.382977   \n",
              "\n",
              "           col_94    col_95    col_96    col_97    col_98    col_99   col_100  \n",
              "9999995  0.640881  0.714778  0.980674  0.201933  0.026760  0.224835  0.974148  \n",
              "9999996  0.276773  0.948429  0.341518  0.664983  0.576333  0.296541  0.670040  \n",
              "9999997  0.587956  0.965012  0.498652  0.713222  0.743059  0.450254  0.456685  \n",
              "9999998  0.433426  0.732032  0.701376  0.904415  0.371543  0.839560  0.211769  \n",
              "9999999  0.282852  0.779345  0.701562  0.883917  0.267973  0.001985  0.522598  \n",
              "\n",
              "[5 rows x 100 columns]"
            ]
          },
          "execution_count": 2,
          "metadata": {},
          "output_type": "execute_result"
        }
      ],
      "source": [
        "# Gera um dataframe com 10 milhões de linhas e 100 colunas com números \"aleatórios\" entre 0 e 1\n",
        "num_rows, num_columns = 10_000_000, 100\n",
        "data = np.random.rand(num_rows, num_columns)\n",
        "dataset = pd.DataFrame(data, columns=[f\"col_{i+1}\" for i in range(num_columns)])\n",
        "dataset.tail(5)"
      ]
    },
    {
      "cell_type": "code",
      "execution_count": 3,
      "metadata": {
        "id": "7JFxyGBEo7lt"
      },
      "outputs": [
        {
          "name": "stdout",
          "output_type": "stream",
          "text": [
            "O dataset 'numbers_input.csv' foi salvo com sucesso!\n"
          ]
        }
      ],
      "source": [
        "# Grava o arquivo no formato CSV\n",
        "try:\n",
        "    dataset.to_csv(\"numbers_input.csv\", index=False, chunksize=100000)\n",
        "    print(\"O dataset 'numbers_input.csv' foi salvo com sucesso!\")\n",
        "except:\n",
        "    print(\"Erro ao salvar o dataset!\")"
      ]
    },
    {
      "cell_type": "code",
      "execution_count": 4,
      "metadata": {},
      "outputs": [
        {
          "name": "stdout",
          "output_type": "stream",
          "text": [
            "O dataset 'numbers_output.csv' foi salvo com sucesso!\n"
          ]
        }
      ],
      "source": [
        "# Lê o arquivo em blocos de 100 mil linhas, multiplica os dados por 10 e grava os novos resultados\n",
        "try:\n",
        "    for chunck in pd.read_csv(\"numbers_input.csv\", chunksize=100000):\n",
        "        chunck *= 10\n",
        "        chunck.to_csv(\"numbers_output.csv\", mode=\"a\")\n",
        "    print(\"O dataset 'numbers_output.csv' foi salvo com sucesso!\")\n",
        "except:\n",
        "    print(\"Erro ao salvar o dataset!\")"
      ]
    }
  ],
  "metadata": {
    "colab": {
      "provenance": []
    },
    "kernelspec": {
      "display_name": "Python 3",
      "name": "python3"
    },
    "language_info": {
      "codemirror_mode": {
        "name": "ipython",
        "version": 3
      },
      "file_extension": ".py",
      "mimetype": "text/x-python",
      "name": "python",
      "nbconvert_exporter": "python",
      "pygments_lexer": "ipython3",
      "version": "3.11.9"
    }
  },
  "nbformat": 4,
  "nbformat_minor": 0
}
